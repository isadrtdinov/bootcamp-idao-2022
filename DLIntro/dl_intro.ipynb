{
 "cells": [
  {
   "cell_type": "markdown",
   "metadata": {},
   "source": [
    "# IDAO bootcamp deep leanning\n",
    "\n",
    "### Plans for this notebook:\n",
    "\n",
    "1. Quick introduction in deep learning\n",
    "2. **Pytorch** basics\n",
    "3. Some details about learning pipeline\n",
    "4. Build and apply simple fully connected nural network\n",
    "5. Introduction to conv nets\n",
    "6. Build and apply simple convolutional nural network\n",
    "\n",
    "\n",
    "\n",
    "##### This notebook is strongly based on materials from: https://github.com/hse-ds/iad-deep-learning"
   ]
  },
  {
   "cell_type": "markdown",
   "metadata": {},
   "source": [
    "# 1. Quick introduction in deep learning [mini-presentation](https://docs.google.com/presentation/d/1cc9n11O6I_18bunhgw8qfuJ7kp2ITD9hfIZsp_8lpJA/edit?usp=sharing)"
   ]
  },
  {
   "cell_type": "markdown",
   "metadata": {},
   "source": [
    "# 2. Pytorch high level basics"
   ]
  },
  {
   "cell_type": "markdown",
   "metadata": {},
   "source": [
    "#### 0. Set up enviroment if needed"
   ]
  },
  {
   "cell_type": "code",
   "execution_count": null,
   "metadata": {},
   "outputs": [],
   "source": [
    "#!pip install pytorch\n",
    "#!pip install numpy\n",
    "#!pip install sklearn\n",
    "#!pip install tqdm\n",
    "#!pip install matplotlib"
   ]
  },
  {
   "cell_type": "markdown",
   "metadata": {},
   "source": [
    "#### 1. Remembering numpy"
   ]
  },
  {
   "cell_type": "code",
   "execution_count": null,
   "metadata": {},
   "outputs": [],
   "source": [
    "import numpy as np"
   ]
  },
  {
   "cell_type": "code",
   "execution_count": null,
   "metadata": {},
   "outputs": [],
   "source": [
    "# random matrix\n",
    "a = np.random.rand(5, 3)\n",
    "a"
   ]
  },
  {
   "cell_type": "code",
   "execution_count": null,
   "metadata": {},
   "outputs": [],
   "source": [
    "print(f\"Shape: {a.shape}\")"
   ]
  },
  {
   "cell_type": "code",
   "execution_count": null,
   "metadata": {},
   "outputs": [],
   "source": [
    "print(f\"Add 5:\\n{a + 5}\")"
   ]
  },
  {
   "cell_type": "code",
   "execution_count": null,
   "metadata": {},
   "outputs": [],
   "source": [
    "print(f\"Matrix product X X^T:\\n{a @ a.T}\")"
   ]
  },
  {
   "cell_type": "code",
   "execution_count": null,
   "metadata": {},
   "outputs": [],
   "source": [
    "print(f\"Column mean:\\n{a.mean(axis=-1)}\")"
   ]
  },
  {
   "cell_type": "code",
   "execution_count": null,
   "metadata": {},
   "outputs": [],
   "source": [
    "print(f\"Change shape: {a.reshape(3, 5).shape}\")"
   ]
  },
  {
   "cell_type": "code",
   "execution_count": null,
   "metadata": {},
   "outputs": [],
   "source": []
  },
  {
   "cell_type": "markdown",
   "metadata": {},
   "source": [
    "Task: Use numpy to calculate the sum of squares of natural numbers from 1 to 10000."
   ]
  },
  {
   "cell_type": "code",
   "execution_count": null,
   "metadata": {},
   "outputs": [],
   "source": [
    "## YOUR CODE HERE"
   ]
  },
  {
   "cell_type": "markdown",
   "metadata": {},
   "source": [
    "#### 2. Lets do the same with pytorch"
   ]
  },
  {
   "cell_type": "code",
   "execution_count": null,
   "metadata": {},
   "outputs": [],
   "source": [
    "import torch\n",
    "import torch.nn.functional as F\n",
    "print(torch.__version__)"
   ]
  },
  {
   "cell_type": "code",
   "execution_count": null,
   "metadata": {},
   "outputs": [],
   "source": [
    "x = torch.rand(5, 3)\n",
    "x"
   ]
  },
  {
   "cell_type": "code",
   "execution_count": null,
   "metadata": {},
   "outputs": [],
   "source": [
    "print(f\"Shape: {x.shape}\")"
   ]
  },
  {
   "cell_type": "code",
   "execution_count": null,
   "metadata": {},
   "outputs": [],
   "source": [
    "print(f\"Add 5:\\n{x + 5}\")"
   ]
  },
  {
   "cell_type": "code",
   "execution_count": null,
   "metadata": {},
   "outputs": [],
   "source": [
    "# torch.mm, torch.matmul, torch.bmm, @\n",
    "print(f\"X X^T  (1):\\n{torch.matmul(x, x.transpose(1, 0))}\\n\")\n",
    "print(f\"X X^T  (2):\\n{x.mm(x.t())}\")"
   ]
  },
  {
   "cell_type": "code",
   "execution_count": null,
   "metadata": {},
   "outputs": [],
   "source": [
    "print(f\"Column mean:\\n{x.mean(dim=-1)}\")"
   ]
  },
  {
   "cell_type": "code",
   "execution_count": null,
   "metadata": {},
   "outputs": [],
   "source": [
    "print(f\"Change shape:\\n{x.reshape([3, 5]).shape}\\n\")"
   ]
  },
  {
   "cell_type": "markdown",
   "metadata": {},
   "source": [
    "Some examples how operations changes:\n",
    "\n",
    "* `x.reshape([1,2,8]) -> x.view(1,2,8)`\n",
    "\n",
    "* `x.sum(axis=-1) -> x.sum(dim=-1)`\n",
    "\n",
    "* `x.astype(\"int64\") -> x.type(torch.LongTensor)`\n",
    "\n",
    "More such examples you can find [here](https://github.com/torch/torch7/wiki/Torch-for-Numpy-users)\n"
   ]
  },
  {
   "cell_type": "code",
   "execution_count": null,
   "metadata": {},
   "outputs": [],
   "source": []
  },
  {
   "cell_type": "markdown",
   "metadata": {},
   "source": [
    "Task: Use numpy to calculate the sum of squares of natural numbers from 1 to 10000."
   ]
  },
  {
   "cell_type": "code",
   "execution_count": null,
   "metadata": {},
   "outputs": [],
   "source": [
    "# YOUR CODE HERE"
   ]
  },
  {
   "cell_type": "markdown",
   "metadata": {},
   "source": [
    "#### 2. Basics of pytorch gradients"
   ]
  },
  {
   "cell_type": "code",
   "execution_count": null,
   "metadata": {},
   "outputs": [],
   "source": [
    "from sklearn.datasets import load_boston\n",
    "import matplotlib.pyplot as plt\n",
    "\n",
    "boston = load_boston()\n",
    "plt.scatter(boston.data[:, -1], boston.target);"
   ]
  },
  {
   "attachments": {
    "torch_grad.png": {
     "image/png": "[encoded data removed]"
    }
   },
   "cell_type": "markdown",
   "metadata": {},
   "source": [
    "![torch_grad.png](attachment:torch_grad.png)"
   ]
  },
  {
   "cell_type": "code",
   "execution_count": null,
   "metadata": {},
   "outputs": [],
   "source": [
    "# Lets create tensors with \"requires_grad=True\", which means that we want to calculate gradietnts for this tensor\n",
    "w = torch.rand(1, requires_grad=True)\n",
    "b = torch.rand(1, requires_grad=True)\n",
    "\n",
    "x = torch.tensor(boston.data[:, -1] / boston.data[:, -1].max(), dtype=torch.float32)\n",
    "y = torch.tensor(boston.target, dtype=torch.float32)\n",
    "\n",
    "assert w.grad is None\n",
    "assert b.grad is None"
   ]
  },
  {
   "cell_type": "code",
   "execution_count": null,
   "metadata": {},
   "outputs": [],
   "source": [
    "y_pred = w * x + b                    # make some operations\n",
    "loss = torch.mean((y_pred - y) ** 2)  # make some operations\n",
    "loss.backward()                       # calculate gradients with \".backward()\"\n",
    "\n",
    "# No we can see gradients\n",
    "assert w.grad is not None\n",
    "assert b.grad is not None\n",
    "\n",
    "print(\"dL/dw = \\n\", w.grad)\n",
    "print(\"dL/db = \\n\", b.grad)"
   ]
  },
  {
   "cell_type": "code",
   "execution_count": null,
   "metadata": {},
   "outputs": [],
   "source": [
    "from IPython.display import clear_output\n",
    "\n",
    "for i in range(300):\n",
    "    y_pred = w * x + b\n",
    "\n",
    "    loss = torch.mean((y_pred - y)**2)\n",
    "    loss.backward()\n",
    "\n",
    "    # make a step\n",
    "    w.data -=  0.05 * w.grad\n",
    "    b.data -=  0.05 * b.grad\n",
    "\n",
    "    # zero gradients\n",
    "    w.grad.data.zero_()\n",
    "    b.grad.data.zero_()\n",
    "\n",
    "    # рисуем картинки\n",
    "    if (i + 1) % 5 == 0:\n",
    "        clear_output(True)\n",
    "        plt.figure(figsize=(10,8))\n",
    "        plt.scatter(x.data.numpy(), y.data.numpy(), label=\"data\")\n",
    "        plt.scatter(x.data.numpy(), y_pred.data.numpy(),\n",
    "                    color=\"orange\", linewidth=5, label=\"predictions\")\n",
    "        plt.xlabel(\"LSTAT\", fontsize=14)\n",
    "        plt.ylabel(\"MEDV (target)\", fontsize=14)\n",
    "        plt.title(\"Boston modelling\", fontsize=18)\n",
    "        plt.legend(fontsize=14)\n",
    "        plt.show()\n",
    "\n",
    "        print(\"loss = \", loss.data.numpy())\n",
    "        if loss.data.numpy() < 0.1:\n",
    "            print(\"Done!\")\n",
    "            break\n"
   ]
  },
  {
   "cell_type": "markdown",
   "metadata": {},
   "source": [
    "### 4. Some details about learning pipeline\n",
    "\n",
    "Before build your neural network, you need to think about how to train it. Firstly, you need to implement batching of your dataset"
   ]
  },
  {
   "cell_type": "markdown",
   "metadata": {},
   "source": []
  },
  {
   "cell_type": "markdown",
   "metadata": {},
   "source": [
    "In order in this framework to be able to iterate over the data you need to create your own class inherited from `torch.utils.data.Dataset`.\n",
    "\n",
    "\n",
    "You **need to implement** who methods: \n",
    "\n",
    "* `__len__` -- returns information about how many objects we have in the dataset\n",
    "* `__getitem__` -- returns the sample and the target to it\n",
    "\n",
    "\n",
    "Now let's write one ourselves, generate random data as a dataset."
   ]
  },
  {
   "cell_type": "code",
   "execution_count": null,
   "metadata": {},
   "outputs": [],
   "source": [
    "class RandomDataset(torch.utils.data.Dataset):\n",
    "    \"\"\"\n",
    "    Our random dataset\n",
    "    \"\"\"\n",
    "    def __init__(self, x, y):\n",
    "        self.x = x\n",
    "        self.y = y\n",
    "        \n",
    "    def __len__(self):\n",
    "        return len(self.x)\n",
    "    \n",
    "    def __getitem__(self, idx):\n",
    "        return {\"sample\": torch.tensor(x[idx, :], dtype=torch.float), \"target\": y[idx]}"
   ]
  },
  {
   "cell_type": "code",
   "execution_count": null,
   "metadata": {},
   "outputs": [],
   "source": [
    "x = np.random.rand(1000, 5)\n",
    "y = np.random.rand(1000)"
   ]
  },
  {
   "cell_type": "code",
   "execution_count": null,
   "metadata": {},
   "outputs": [],
   "source": [
    "our_dataset = RandomDataset(x, y)"
   ]
  },
  {
   "cell_type": "code",
   "execution_count": null,
   "metadata": {},
   "outputs": [],
   "source": [
    "our_dataset.__getitem__(1)"
   ]
  },
  {
   "cell_type": "markdown",
   "metadata": {},
   "source": [
    "In order to get batches from the data, pytorch uses such an entity as a dataloader, which accepts a class inherited from `torch.utils.data.Dataset` as input. Let's look at an example now:"
   ]
  },
  {
   "cell_type": "code",
   "execution_count": null,
   "metadata": {},
   "outputs": [],
   "source": [
    "dataloader = torch.utils.data.DataLoader(our_dataset, batch_size=4)"
   ]
  },
  {
   "cell_type": "code",
   "execution_count": null,
   "metadata": {},
   "outputs": [],
   "source": [
    "batch = next(iter(dataloader))\n",
    "\n",
    "print(f\"Sample:\\n{batch['sample']}\")\n",
    "print(f\"Target:\\n{batch['target']}\")"
   ]
  },
  {
   "cell_type": "markdown",
   "metadata": {},
   "source": [
    "### 5. Build and apply simple fully connected nural network"
   ]
  },
  {
   "cell_type": "markdown",
   "metadata": {},
   "source": [
    "#### How to make a neural network"
   ]
  },
  {
   "cell_type": "markdown",
   "metadata": {},
   "source": [
    "\n",
    "In order to create neural networks in high-level pytorch, the `nn` module is used. The neural network must be inherited from the `nn.Module` class. An example of how it might look\n",
    "\n",
    "```\n",
    "class Model(nn.Module):\n",
    "    def __init__(self):\n",
    "        super(Model, self).__init__()\n",
    "        self.conv1 = nn.Conv2d(1, 20, 5)\n",
    "        self.conv2 = nn.Conv2d(20, 20, 5)\n",
    "\n",
    "    def forward(self, x):\n",
    "       x = F.relu(self.conv1(x))\n",
    "       return F.relu(self.conv2(x))\n",
    "```\n",
    "\n",
    "As we can see in this example, this class **must have a** method `forward`, which defines the direct passage of the neural network. Also from the class above you can see that the `nn` module contains the implementation of most of the layers, and the` nn.functional` module contains activation functions.\n",
    "\n",
    "There is one more way to create a neural network and let's analyze it in practice:"
   ]
  },
  {
   "cell_type": "code",
   "execution_count": null,
   "metadata": {},
   "outputs": [],
   "source": [
    "from torch import nn\n",
    "\n",
    "model = nn.Sequential()                   # create an empty model to which we will add layers\n",
    "model.add_module(\"l1\", nn.Linear(5, 10))  # added a layer with 5 neurons at the input and 3 at the output\n",
    "model.add_module(\"l2\", nn.ReLU())         # added activation function\n",
    "model.add_module(\"l3\", nn.Linear(10, 1))  # added a layer with 3 neurons at the input and 5 at the output\n",
    "\n",
    "# other way to do the same\n",
    "another_model = nn.Sequential(\n",
    "    nn.Linear(5, 10),\n",
    "    nn.ReLU(),\n",
    "    nn.Linear(10, 1)\n",
    ")"
   ]
  },
  {
   "cell_type": "code",
   "execution_count": null,
   "metadata": {},
   "outputs": [],
   "source": [
    "y_pred = model(batch['sample']) # making predictions"
   ]
  },
  {
   "cell_type": "markdown",
   "metadata": {},
   "source": [
    "#### How to write a training loop and track metrics\n",
    " \n",
    "Let's now collect data loading, create a model and train on the MNIST dataset that has already been created for us"
   ]
  },
  {
   "cell_type": "code",
   "execution_count": null,
   "metadata": {},
   "outputs": [],
   "source": [
    "import torchvision\n",
    "\n",
    "# we use a ready-made class from torch to load data for training\n",
    "mnist_train = torchvision.datasets.MNIST(\n",
    "    \"./mnist/\", \n",
    "    train=True, \n",
    "    download=True, \n",
    "    transform=torchvision.transforms.ToTensor()\n",
    ") \n",
    "mnist_val = torchvision.datasets.MNIST(\n",
    "    \"./mnist/\",\n",
    "    train=False, \n",
    "    download=True,\n",
    "    transform=torchvision.transforms.ToTensor()\n",
    ")\n",
    "\n",
    "# since this is already a class inherited from Tdataset, it can be immediately wrapped in a dataloader\n",
    "train_dataloader = torch.utils.data.DataLoader(\n",
    "    mnist_train, \n",
    "    batch_size=4, \n",
    "    shuffle=True, \n",
    "    num_workers=1\n",
    ") \n",
    "\n",
    "val_dataloader = torch.utils.data.DataLoader(\n",
    "    mnist_val, \n",
    "    batch_size=4, \n",
    "    shuffle=True, \n",
    "    num_workers=1\n",
    ")"
   ]
  },
  {
   "cell_type": "code",
   "execution_count": null,
   "metadata": {
    "scrolled": true
   },
   "outputs": [],
   "source": [
    "# let's look at what we are working with\n",
    "for i in [0, 1]:\n",
    "    plt.subplot(1, 2, i + 1)\n",
    "    plt.imshow(mnist_train[i][0].squeeze(0).numpy().reshape([28, 28]))\n",
    "    plt.title(str(mnist_train[i][1]))\n",
    "plt.show()"
   ]
  },
  {
   "cell_type": "code",
   "execution_count": null,
   "metadata": {},
   "outputs": [],
   "source": [
    "model = nn.Sequential(\n",
    "    nn.Flatten(),             # turning a 28x28 image into a 784 vector\n",
    "    nn.Linear(28 * 28, 128),  # a linear layer that converts a vector of size 784 to a vector of size 128\n",
    "    nn.ReLU(),                # non-linearity\n",
    "    nn.Linear(128, 10),       # a linear layer that converts a vector of size 128 to a vector of size 10\n",
    ")\n",
    "\n",
    "# creating an optimizer that will update the weights of the model\n",
    "optimizer = torch.optim.SGD(model.parameters(), lr=0.05) "
   ]
  },
  {
   "cell_type": "markdown",
   "metadata": {},
   "source": [
    "The weights of the models are stored as matrices and look like this:"
   ]
  },
  {
   "cell_type": "code",
   "execution_count": null,
   "metadata": {
    "scrolled": false
   },
   "outputs": [],
   "source": [
    "[x for x in model.named_parameters()] "
   ]
  },
  {
   "cell_type": "code",
   "execution_count": null,
   "metadata": {
    "scrolled": false
   },
   "outputs": [],
   "source": [
    "from tqdm.notebook import tqdm\n",
    "\n",
    "# in total we will have 5 epochs (5 times in a row we will go through all the matches from the train)\n",
    "for epoch in range(1):\n",
    "    for x_train, y_train in tqdm(train_dataloader):    # we take the batch from the train loader\n",
    "        y_pred = model(x_train)                        # making predictions\n",
    "        loss = F.cross_entropy(y_pred, y_train)        # calculate loss\n",
    "        loss.backward()                                # calculate gradients\n",
    "        optimizer.step()                               # updete parametrs\n",
    "        optimizer.zero_grad()                          # drop gradients\n",
    "    \n",
    "    if epoch % 2 == 0:\n",
    "        val_loss = []                                  # loss storing list\n",
    "        val_accuracy = []\n",
    "        with torch.no_grad():                          # no need grads when testing\n",
    "            for x_val, y_val in tqdm(val_dataloader):  # we take the batch from the val loader\n",
    "                y_pred = model(x_val)                  # making predictions\n",
    "                loss = F.cross_entropy(y_pred, y_val)  # calculate loss\n",
    "                val_loss.append(loss.numpy())          # store\n",
    "                val_accuracy.extend((torch.argmax(y_pred, dim=-1) == y_val).numpy().tolist())\n",
    "        \n",
    "        # print metrics\n",
    "        print(f\"Epoch: {epoch}, loss: {np.mean(val_loss)}, accuracy: {np.mean(val_accuracy)}\")"
   ]
  },
  {
   "cell_type": "markdown",
   "metadata": {},
   "source": [
    "### 5. Introduction to conv nets [mini-presentation (continued)](https://docs.google.com/presentation/d/1cc9n11O6I_18bunhgw8qfuJ7kp2ITD9hfIZsp_8lpJA/edit?usp=sharing)"
   ]
  },
  {
   "cell_type": "markdown",
   "metadata": {},
   "source": [
    "### 6. Build and apply simple convolutional nural network"
   ]
  },
  {
   "cell_type": "code",
   "execution_count": null,
   "metadata": {},
   "outputs": [],
   "source": [
    "def train_and_test_model(model, optimizer, train_dataloader, val_dataloader, epoches=5):\n",
    "    # just copy and past code above\n",
    "    for epoch in range(epoches):\n",
    "        for x_train, y_train in tqdm(train_dataloader):    # we take the batch from the train loader\n",
    "            y_pred = model(x_train)                        # making predictions\n",
    "            loss = F.cross_entropy(y_pred, y_train)        # calculate loss\n",
    "            loss.backward()                                # calculate gradients\n",
    "            optimizer.step()                               # updete parametrs\n",
    "            optimizer.zero_grad()                          # drop gradients\n",
    "\n",
    "        if epoch % 2 == 0:\n",
    "            val_loss = []                                  # loss storing list\n",
    "            val_accuracy = []\n",
    "            with torch.no_grad():                          # no need grads when testing\n",
    "                for x_val, y_val in tqdm(val_dataloader):  # we take the batch from the val loader\n",
    "                    y_pred = model(x_val)                  # making predictions\n",
    "                    loss = F.cross_entropy(y_pred, y_val)  # calculate loss\n",
    "                    val_loss.append(loss.numpy())          # store\n",
    "                    val_accuracy.extend((torch.argmax(y_pred, dim=-1) == y_val).numpy().tolist())\n",
    "\n",
    "            # print metrics\n",
    "            print(f\"Epoch: {epoch}, loss: {np.mean(val_loss)}, accuracy: {np.mean(val_accuracy)}\")\n",
    "    "
   ]
  },
  {
   "cell_type": "code",
   "execution_count": null,
   "metadata": {},
   "outputs": [],
   "source": [
    "import torchvision\n",
    "\n",
    "# we use a ready-made class from torch to load data for training\n",
    "cifar_train = torchvision.datasets.CIFAR10(\n",
    "    \"./mnist/\", \n",
    "    train=True, \n",
    "    download=True, \n",
    "    transform=torchvision.transforms.ToTensor()\n",
    ") \n",
    "cifar_val = torchvision.datasets.CIFAR10(\n",
    "    \"./mnist/\",\n",
    "    train=False, \n",
    "    download=True,\n",
    "    transform=torchvision.transforms.ToTensor()\n",
    ")\n",
    "\n",
    "# since this is already a class inherited from Tdataset, it can be immediately wrapped in a dataloader\n",
    "train_dataloader = torch.utils.data.DataLoader(\n",
    "    cifar_train, \n",
    "    batch_size=4, \n",
    "    shuffle=True, \n",
    "    num_workers=1\n",
    ") \n",
    "\n",
    "val_dataloader = torch.utils.data.DataLoader(\n",
    "    cifar_val, \n",
    "    batch_size=4, \n",
    "    shuffle=True, \n",
    "    num_workers=1\n",
    ")"
   ]
  },
  {
   "cell_type": "code",
   "execution_count": null,
   "metadata": {},
   "outputs": [],
   "source": [
    "# let's look at what we are working with\n",
    "plt.figure(figsize=(14, 5))\n",
    "for i in range(5):\n",
    "    plt.subplot(1, 5, i + 1)\n",
    "    plt.imshow(np.transpose(cifar_train[i][0].numpy(), [1,2,0]))\n",
    "    plt.title(cifar_train.classes[cifar_train[i][1]])\n",
    "plt.show()"
   ]
  },
  {
   "cell_type": "code",
   "execution_count": null,
   "metadata": {},
   "outputs": [],
   "source": [
    "model = nn.Sequential(\n",
    "    nn.Flatten(),                 # turning a 3x32x32 image into a 3072 vector\n",
    "    nn.Linear(3 * 32 * 32, 128),  # a linear layer that converts a vector of size 3072 to a vector of size 128\n",
    "    nn.ReLU(),                    # non-linearity\n",
    "    nn.Linear(128, 10),           # a linear layer that converts a vector of size 128 to a vector of size 10\n",
    ")\n",
    "\n",
    "# creating an optimizer that will update the weights of the model\n",
    "optimizer = torch.optim.Adam(model.parameters(), lr=0.001) \n",
    "\n",
    "train_and_test_model(model, optimizer, train_dataloader, val_dataloader)\n",
    "\n",
    "# Epoch: 4, loss: 1.8430081605911255, accuracy: 0.3336"
   ]
  },
  {
   "cell_type": "code",
   "execution_count": null,
   "metadata": {},
   "outputs": [],
   "source": [
    "model = nn.Sequential(  \n",
    "    # input [4, 3, 32, 32]\n",
    "    nn.Conv2d(3, 128, 3),    # apply convolution with 128 kernels size of 3. [4, 128, 30, 30]\n",
    "    nn.ReLU(),               # non-linearity [4, 128, 30, 30]\n",
    "    nn.MaxPool2d(3),         # apply max pooling to image size reduction [4, 128, 10, 10]\n",
    "\n",
    "                             # doing exactly the same.\n",
    "    nn.Conv2d(128, 128, 3),  # [4, 128, 8, 8]\n",
    "    nn.ReLU(),               # [4, 128, 8, 8]\n",
    "    nn.MaxPool2d(3),         # [4, 128, 2, 2]\n",
    "\n",
    "    nn.Flatten(),             # converting into a 512 vector. [4, 512]\n",
    "    nn.Linear(512, 10),       # a linear layer that converts a vector of size 512 to a vector of size 10. [4, 10]\n",
    ")\n",
    "\n",
    "# creating an optimizer that will update the weights of the model\n",
    "optimizer = torch.optim.Adam(model.parameters(), lr=0.001) \n",
    "\n",
    "train_and_test_model(model, optimizer, train_dataloader, val_dataloader)\n",
    "\n",
    "# Epoch: 4, loss: 1.135080099105835, accuracy: 0.6027\n",
    "# But if you will use some extra layers and train longe you can get > 80% accuracy easily"
   ]
  },
  {
   "cell_type": "code",
   "execution_count": null,
   "metadata": {},
   "outputs": [],
   "source": [
    "from catboost import CatBoostClassifier\n",
    "\n",
    "model = CatBoostClassifier(n_estimators=1000, verbose=True, task_type=\"GPU\")\n",
    "model.fit(cifar_train.data.reshape((-1, 3*32*32)), cifar_train.targets)\n",
    "test_pred = model.predict_proba(cifar_val.data.reshape((-1, 3*32*32))).argmax(-1)\n",
    "print(f\"accuracy: {np.mean(test_pred == np.array(cifar_val.targets))}\")\n",
    "\n",
    "# accuracy: 0.5784"
   ]
  },
  {
   "cell_type": "code",
   "execution_count": null,
   "metadata": {},
   "outputs": [],
   "source": []
  }
 ],
 "metadata": {
  "kernelspec": {
   "display_name": "Python 3",
   "language": "python",
   "name": "python3"
  },
  "language_info": {
   "codemirror_mode": {
    "name": "ipython",
    "version": 3
   },
   "file_extension": ".py",
   "mimetype": "text/x-python",
   "name": "python",
   "nbconvert_exporter": "python",
   "pygments_lexer": "ipython3",
   "version": "3.6.9"
  }
 },
 "nbformat": 4,
 "nbformat_minor": 4
}
